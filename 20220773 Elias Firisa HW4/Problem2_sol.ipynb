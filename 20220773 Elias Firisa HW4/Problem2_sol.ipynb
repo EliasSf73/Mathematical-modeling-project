{
  "cells": [
    {
      "cell_type": "code",
      "execution_count": 1,
      "id": "e653fb8f-d9aa-4bd9-b4b6-72a6cc8e27f1",
      "metadata": {
        "scrolled": true,
        "id": "e653fb8f-d9aa-4bd9-b4b6-72a6cc8e27f1"
      },
      "outputs": [],
      "source": [
        "import numpy as np\n",
        "import pandas as pd\n",
        "from scipy.integrate import solve_ivp\n",
        "from scipy.optimize import minimize\n",
        "import matplotlib.pyplot as plt\n",
        "from scipy.integrate import odeint"
      ]
    },
    {
      "cell_type": "code",
      "source": [
        "\n",
        "from google.colab import drive\n",
        "drive.mount('/content/drive')\n",
        "# Load observed data\n",
        "data=pd.read_csv('/content/drive/MyDrive/spring2025/Modeling_Lab/[HW4]_Practical_class_4/LV_data.csv')\n",
        "t_data = data['Time'].values\n",
        "x_data = data['Prey'].values\n",
        "y_data = data['Predator'].values\n",
        "z0=[x_data[0],y_data[0]]\n",
        "z0"
      ],
      "metadata": {
        "colab": {
          "base_uri": "https://localhost:8080/"
        },
        "id": "PZz3RnNvxpfr",
        "outputId": "1615a765-8b35-42a5-8b9c-7ff6d180d3fa"
      },
      "id": "PZz3RnNvxpfr",
      "execution_count": 2,
      "outputs": [
        {
          "output_type": "stream",
          "name": "stdout",
          "text": [
            "Mounted at /content/drive\n"
          ]
        },
        {
          "output_type": "execute_result",
          "data": {
            "text/plain": [
              "[np.float64(30.0), np.float64(4.0)]"
            ]
          },
          "metadata": {},
          "execution_count": 2
        }
      ]
    },
    {
      "cell_type": "code",
      "source": [
        "data.head()"
      ],
      "metadata": {
        "colab": {
          "base_uri": "https://localhost:8080/",
          "height": 206
        },
        "id": "71rypXaFa4IN",
        "outputId": "6c722a7a-8349-40ae-a426-0ea92e68f7a8"
      },
      "id": "71rypXaFa4IN",
      "execution_count": 16,
      "outputs": [
        {
          "output_type": "execute_result",
          "data": {
            "text/plain": [
              "   Time  Prey  Predator\n",
              "0     0  30.0       4.0\n",
              "1     1  47.2       6.1\n",
              "2     2  70.2       9.8\n",
              "3     3  77.4      35.2\n",
              "4     4  36.3      59.4"
            ],
            "text/html": [
              "\n",
              "  <div id=\"df-05b8cd57-5f11-4811-b9be-82a99d6dd315\" class=\"colab-df-container\">\n",
              "    <div>\n",
              "<style scoped>\n",
              "    .dataframe tbody tr th:only-of-type {\n",
              "        vertical-align: middle;\n",
              "    }\n",
              "\n",
              "    .dataframe tbody tr th {\n",
              "        vertical-align: top;\n",
              "    }\n",
              "\n",
              "    .dataframe thead th {\n",
              "        text-align: right;\n",
              "    }\n",
              "</style>\n",
              "<table border=\"1\" class=\"dataframe\">\n",
              "  <thead>\n",
              "    <tr style=\"text-align: right;\">\n",
              "      <th></th>\n",
              "      <th>Time</th>\n",
              "      <th>Prey</th>\n",
              "      <th>Predator</th>\n",
              "    </tr>\n",
              "  </thead>\n",
              "  <tbody>\n",
              "    <tr>\n",
              "      <th>0</th>\n",
              "      <td>0</td>\n",
              "      <td>30.0</td>\n",
              "      <td>4.0</td>\n",
              "    </tr>\n",
              "    <tr>\n",
              "      <th>1</th>\n",
              "      <td>1</td>\n",
              "      <td>47.2</td>\n",
              "      <td>6.1</td>\n",
              "    </tr>\n",
              "    <tr>\n",
              "      <th>2</th>\n",
              "      <td>2</td>\n",
              "      <td>70.2</td>\n",
              "      <td>9.8</td>\n",
              "    </tr>\n",
              "    <tr>\n",
              "      <th>3</th>\n",
              "      <td>3</td>\n",
              "      <td>77.4</td>\n",
              "      <td>35.2</td>\n",
              "    </tr>\n",
              "    <tr>\n",
              "      <th>4</th>\n",
              "      <td>4</td>\n",
              "      <td>36.3</td>\n",
              "      <td>59.4</td>\n",
              "    </tr>\n",
              "  </tbody>\n",
              "</table>\n",
              "</div>\n",
              "    <div class=\"colab-df-buttons\">\n",
              "\n",
              "  <div class=\"colab-df-container\">\n",
              "    <button class=\"colab-df-convert\" onclick=\"convertToInteractive('df-05b8cd57-5f11-4811-b9be-82a99d6dd315')\"\n",
              "            title=\"Convert this dataframe to an interactive table.\"\n",
              "            style=\"display:none;\">\n",
              "\n",
              "  <svg xmlns=\"http://www.w3.org/2000/svg\" height=\"24px\" viewBox=\"0 -960 960 960\">\n",
              "    <path d=\"M120-120v-720h720v720H120Zm60-500h600v-160H180v160Zm220 220h160v-160H400v160Zm0 220h160v-160H400v160ZM180-400h160v-160H180v160Zm440 0h160v-160H620v160ZM180-180h160v-160H180v160Zm440 0h160v-160H620v160Z\"/>\n",
              "  </svg>\n",
              "    </button>\n",
              "\n",
              "  <style>\n",
              "    .colab-df-container {\n",
              "      display:flex;\n",
              "      gap: 12px;\n",
              "    }\n",
              "\n",
              "    .colab-df-convert {\n",
              "      background-color: #E8F0FE;\n",
              "      border: none;\n",
              "      border-radius: 50%;\n",
              "      cursor: pointer;\n",
              "      display: none;\n",
              "      fill: #1967D2;\n",
              "      height: 32px;\n",
              "      padding: 0 0 0 0;\n",
              "      width: 32px;\n",
              "    }\n",
              "\n",
              "    .colab-df-convert:hover {\n",
              "      background-color: #E2EBFA;\n",
              "      box-shadow: 0px 1px 2px rgba(60, 64, 67, 0.3), 0px 1px 3px 1px rgba(60, 64, 67, 0.15);\n",
              "      fill: #174EA6;\n",
              "    }\n",
              "\n",
              "    .colab-df-buttons div {\n",
              "      margin-bottom: 4px;\n",
              "    }\n",
              "\n",
              "    [theme=dark] .colab-df-convert {\n",
              "      background-color: #3B4455;\n",
              "      fill: #D2E3FC;\n",
              "    }\n",
              "\n",
              "    [theme=dark] .colab-df-convert:hover {\n",
              "      background-color: #434B5C;\n",
              "      box-shadow: 0px 1px 3px 1px rgba(0, 0, 0, 0.15);\n",
              "      filter: drop-shadow(0px 1px 2px rgba(0, 0, 0, 0.3));\n",
              "      fill: #FFFFFF;\n",
              "    }\n",
              "  </style>\n",
              "\n",
              "    <script>\n",
              "      const buttonEl =\n",
              "        document.querySelector('#df-05b8cd57-5f11-4811-b9be-82a99d6dd315 button.colab-df-convert');\n",
              "      buttonEl.style.display =\n",
              "        google.colab.kernel.accessAllowed ? 'block' : 'none';\n",
              "\n",
              "      async function convertToInteractive(key) {\n",
              "        const element = document.querySelector('#df-05b8cd57-5f11-4811-b9be-82a99d6dd315');\n",
              "        const dataTable =\n",
              "          await google.colab.kernel.invokeFunction('convertToInteractive',\n",
              "                                                    [key], {});\n",
              "        if (!dataTable) return;\n",
              "\n",
              "        const docLinkHtml = 'Like what you see? Visit the ' +\n",
              "          '<a target=\"_blank\" href=https://colab.research.google.com/notebooks/data_table.ipynb>data table notebook</a>'\n",
              "          + ' to learn more about interactive tables.';\n",
              "        element.innerHTML = '';\n",
              "        dataTable['output_type'] = 'display_data';\n",
              "        await google.colab.output.renderOutput(dataTable, element);\n",
              "        const docLink = document.createElement('div');\n",
              "        docLink.innerHTML = docLinkHtml;\n",
              "        element.appendChild(docLink);\n",
              "      }\n",
              "    </script>\n",
              "  </div>\n",
              "\n",
              "\n",
              "    <div id=\"df-c0f4607f-0ae6-40ee-805f-cdd169a0ca9d\">\n",
              "      <button class=\"colab-df-quickchart\" onclick=\"quickchart('df-c0f4607f-0ae6-40ee-805f-cdd169a0ca9d')\"\n",
              "                title=\"Suggest charts\"\n",
              "                style=\"display:none;\">\n",
              "\n",
              "<svg xmlns=\"http://www.w3.org/2000/svg\" height=\"24px\"viewBox=\"0 0 24 24\"\n",
              "     width=\"24px\">\n",
              "    <g>\n",
              "        <path d=\"M19 3H5c-1.1 0-2 .9-2 2v14c0 1.1.9 2 2 2h14c1.1 0 2-.9 2-2V5c0-1.1-.9-2-2-2zM9 17H7v-7h2v7zm4 0h-2V7h2v10zm4 0h-2v-4h2v4z\"/>\n",
              "    </g>\n",
              "</svg>\n",
              "      </button>\n",
              "\n",
              "<style>\n",
              "  .colab-df-quickchart {\n",
              "      --bg-color: #E8F0FE;\n",
              "      --fill-color: #1967D2;\n",
              "      --hover-bg-color: #E2EBFA;\n",
              "      --hover-fill-color: #174EA6;\n",
              "      --disabled-fill-color: #AAA;\n",
              "      --disabled-bg-color: #DDD;\n",
              "  }\n",
              "\n",
              "  [theme=dark] .colab-df-quickchart {\n",
              "      --bg-color: #3B4455;\n",
              "      --fill-color: #D2E3FC;\n",
              "      --hover-bg-color: #434B5C;\n",
              "      --hover-fill-color: #FFFFFF;\n",
              "      --disabled-bg-color: #3B4455;\n",
              "      --disabled-fill-color: #666;\n",
              "  }\n",
              "\n",
              "  .colab-df-quickchart {\n",
              "    background-color: var(--bg-color);\n",
              "    border: none;\n",
              "    border-radius: 50%;\n",
              "    cursor: pointer;\n",
              "    display: none;\n",
              "    fill: var(--fill-color);\n",
              "    height: 32px;\n",
              "    padding: 0;\n",
              "    width: 32px;\n",
              "  }\n",
              "\n",
              "  .colab-df-quickchart:hover {\n",
              "    background-color: var(--hover-bg-color);\n",
              "    box-shadow: 0 1px 2px rgba(60, 64, 67, 0.3), 0 1px 3px 1px rgba(60, 64, 67, 0.15);\n",
              "    fill: var(--button-hover-fill-color);\n",
              "  }\n",
              "\n",
              "  .colab-df-quickchart-complete:disabled,\n",
              "  .colab-df-quickchart-complete:disabled:hover {\n",
              "    background-color: var(--disabled-bg-color);\n",
              "    fill: var(--disabled-fill-color);\n",
              "    box-shadow: none;\n",
              "  }\n",
              "\n",
              "  .colab-df-spinner {\n",
              "    border: 2px solid var(--fill-color);\n",
              "    border-color: transparent;\n",
              "    border-bottom-color: var(--fill-color);\n",
              "    animation:\n",
              "      spin 1s steps(1) infinite;\n",
              "  }\n",
              "\n",
              "  @keyframes spin {\n",
              "    0% {\n",
              "      border-color: transparent;\n",
              "      border-bottom-color: var(--fill-color);\n",
              "      border-left-color: var(--fill-color);\n",
              "    }\n",
              "    20% {\n",
              "      border-color: transparent;\n",
              "      border-left-color: var(--fill-color);\n",
              "      border-top-color: var(--fill-color);\n",
              "    }\n",
              "    30% {\n",
              "      border-color: transparent;\n",
              "      border-left-color: var(--fill-color);\n",
              "      border-top-color: var(--fill-color);\n",
              "      border-right-color: var(--fill-color);\n",
              "    }\n",
              "    40% {\n",
              "      border-color: transparent;\n",
              "      border-right-color: var(--fill-color);\n",
              "      border-top-color: var(--fill-color);\n",
              "    }\n",
              "    60% {\n",
              "      border-color: transparent;\n",
              "      border-right-color: var(--fill-color);\n",
              "    }\n",
              "    80% {\n",
              "      border-color: transparent;\n",
              "      border-right-color: var(--fill-color);\n",
              "      border-bottom-color: var(--fill-color);\n",
              "    }\n",
              "    90% {\n",
              "      border-color: transparent;\n",
              "      border-bottom-color: var(--fill-color);\n",
              "    }\n",
              "  }\n",
              "</style>\n",
              "\n",
              "      <script>\n",
              "        async function quickchart(key) {\n",
              "          const quickchartButtonEl =\n",
              "            document.querySelector('#' + key + ' button');\n",
              "          quickchartButtonEl.disabled = true;  // To prevent multiple clicks.\n",
              "          quickchartButtonEl.classList.add('colab-df-spinner');\n",
              "          try {\n",
              "            const charts = await google.colab.kernel.invokeFunction(\n",
              "                'suggestCharts', [key], {});\n",
              "          } catch (error) {\n",
              "            console.error('Error during call to suggestCharts:', error);\n",
              "          }\n",
              "          quickchartButtonEl.classList.remove('colab-df-spinner');\n",
              "          quickchartButtonEl.classList.add('colab-df-quickchart-complete');\n",
              "        }\n",
              "        (() => {\n",
              "          let quickchartButtonEl =\n",
              "            document.querySelector('#df-c0f4607f-0ae6-40ee-805f-cdd169a0ca9d button');\n",
              "          quickchartButtonEl.style.display =\n",
              "            google.colab.kernel.accessAllowed ? 'block' : 'none';\n",
              "        })();\n",
              "      </script>\n",
              "    </div>\n",
              "\n",
              "    </div>\n",
              "  </div>\n"
            ],
            "application/vnd.google.colaboratory.intrinsic+json": {
              "type": "dataframe",
              "variable_name": "data",
              "summary": "{\n  \"name\": \"data\",\n  \"rows\": 21,\n  \"fields\": [\n    {\n      \"column\": \"Time\",\n      \"properties\": {\n        \"dtype\": \"number\",\n        \"std\": 6,\n        \"min\": 0,\n        \"max\": 20,\n        \"num_unique_values\": 21,\n        \"samples\": [\n          0,\n          17,\n          15\n        ],\n        \"semantic_type\": \"\",\n        \"description\": \"\"\n      }\n    },\n    {\n      \"column\": \"Prey\",\n      \"properties\": {\n        \"dtype\": \"number\",\n        \"std\": 21.413981858767396,\n        \"min\": 7.6,\n        \"max\": 77.4,\n        \"num_unique_values\": 21,\n        \"samples\": [\n          30.0,\n          7.6,\n          19.5\n        ],\n        \"semantic_type\": \"\",\n        \"description\": \"\"\n      }\n    },\n    {\n      \"column\": \"Predator\",\n      \"properties\": {\n        \"dtype\": \"number\",\n        \"std\": 16.655999919948766,\n        \"min\": 4.0,\n        \"max\": 59.4,\n        \"num_unique_values\": 21,\n        \"samples\": [\n          4.0,\n          15.8,\n          51.1\n        ],\n        \"semantic_type\": \"\",\n        \"description\": \"\"\n      }\n    }\n  ]\n}"
            }
          },
          "metadata": {},
          "execution_count": 16
        }
      ]
    },
    {
      "cell_type": "code",
      "execution_count": 3,
      "id": "8b4361ed-af6d-43f8-b14c-f63978c8c7c5",
      "metadata": {
        "id": "8b4361ed-af6d-43f8-b14c-f63978c8c7c5"
      },
      "outputs": [],
      "source": [
        "# Define the Lotka-Volterra ODE system\n",
        "def lotka_volterra(z, t, α, β, γ, δ):\n",
        "  x, y = z\n",
        "  return [α*x - β*x*y,\n",
        "\n",
        "          δ*x*y - γ*y]\n"
      ]
    },
    {
      "cell_type": "code",
      "execution_count": 4,
      "id": "ca5a6330-3fac-4e1b-80ec-2c67b15c4407",
      "metadata": {
        "id": "ca5a6330-3fac-4e1b-80ec-2c67b15c4407"
      },
      "outputs": [],
      "source": [
        "# Objective function to minimize (mean squared error)\n",
        "def objective_mse(params):\n",
        "  α, β, γ, δ=params\n",
        "  sol=odeint(lotka_volterra,z0,t_data,args=(α,β,γ,δ))\n",
        "  x_sim,y_sim=sol.T\n",
        "\n",
        "  return np.mean((x_sim - x_data)**2 + (y_sim - y_data)**2)\n",
        "\n",
        "\n",
        "\n",
        "def objective_mae(params):\n",
        "    α, β, γ, δ = params\n",
        "    sol = odeint(lotka_volterra, z0, t_data, args=(α,β,γ,δ))\n",
        "    x_sim, y_sim = sol.T\n",
        "    return np.mean(np.abs(x_sim - x_data) + np.abs(y_sim - y_data))\n",
        "\n",
        "\n",
        "\n"
      ]
    },
    {
      "cell_type": "code",
      "execution_count": 5,
      "id": "f35911b0-f2d0-4c2d-87b3-4cbc4eda435d",
      "metadata": {
        "id": "f35911b0-f2d0-4c2d-87b3-4cbc4eda435d"
      },
      "outputs": [],
      "source": [
        "# Initial guess\n",
        "# for init in [[0.5,0.1,0.1,0.5],\n",
        "#              [2,  2,  0.1, 1  ],\n",
        "#              [0.5,5,  0.01,0.2]]:\n",
        "initial_guess = [1,1,1,1]\n",
        "\n",
        "\n",
        "# Optimization using Nelder-Mead\n",
        "result_mse = minimize(objective_mse, initial_guess, method='Nelder-Mead')\n",
        "result_mae=minimize(objective_mae,initial_guess,method='Nelder-Mead')\n"
      ]
    },
    {
      "cell_type": "code",
      "execution_count": 6,
      "id": "2bb0c290-8ff8-4afa-8652-3b2707e815a7",
      "metadata": {
        "colab": {
          "base_uri": "https://localhost:8080/"
        },
        "id": "2bb0c290-8ff8-4afa-8652-3b2707e815a7",
        "outputId": "8c8f5ab0-2550-4c65-8a1b-3cf195b15e20"
      },
      "outputs": [
        {
          "output_type": "stream",
          "name": "stdout",
          "text": [
            "MSE fit → [1.4621374  1.26082679 0.01492048 0.77020544] error= 1803.2076000589263\n",
            "MAE fit → [1.77615868 1.95356669 0.01107482 0.57944283] error= 44.05264255099632\n"
          ]
        }
      ],
      "source": [
        "# Extract optimal parameters and print them\n",
        "print(\"MSE fit →\", result_mse.x, \"error=\", result_mse.fun)\n",
        "print(\"MAE fit →\", result_mae.x, \"error=\", result_mae.fun)\n",
        "\n"
      ]
    },
    {
      "cell_type": "code",
      "execution_count": 13,
      "id": "e83b6ff5-85c0-4ecf-93e0-314b366929c1",
      "metadata": {
        "id": "e83b6ff5-85c0-4ecf-93e0-314b366929c1",
        "colab": {
          "base_uri": "https://localhost:8080/"
        },
        "outputId": "f4162212-ac4d-4aaa-a995-8eecbc1bb838"
      },
      "outputs": [
        {
          "output_type": "stream",
          "name": "stdout",
          "text": [
            "mse_params: 1.4621373960890343 1.2608267897439835 0.01492048258263974 0.7702054445389616\n",
            "MAE_params: 1.7761586830546214 1.9535666864688204 0.011074820412770555 0.5794428321335275\n"
          ]
        }
      ],
      "source": [
        "# Simulate with estimated parameters\n",
        "α_mse, β_mse, γ_mse, δ_mse = result_mse.x\n",
        "print('mse_params:', α_mse,β_mse,γ_mse,δ_mse)\n",
        "α_mae, β_mae, γ_mae, δ_mae=result_mae.x\n",
        "print('MAE_params:', α_mae,β_mae,γ_mae,δ_mae)\n",
        "sol_mse = odeint(lotka_volterra, z0, t_data, args=(α_mse, β_mse, γ_mse, δ_mse))\n",
        "sol_mae=odeint(lotka_volterra,z0,t_data,args=(α_mae,β_mae,γ_mae,δ_mae))\n",
        "\n"
      ]
    },
    {
      "cell_type": "code",
      "execution_count": 14,
      "id": "2cd906c1-5382-4f64-be82-b22137ce903b",
      "metadata": {
        "colab": {
          "base_uri": "https://localhost:8080/",
          "height": 507
        },
        "id": "2cd906c1-5382-4f64-be82-b22137ce903b",
        "outputId": "5e7d95e8-26c6-45c4-c5ca-26cd945c70cc"
      },
      "outputs": [
        {
          "output_type": "display_data",
          "data": {
            "text/plain": [
              "<Figure size 1200x500 with 2 Axes>"
            ],
            "image/png": "[encoded data removed]"
          },
          "metadata": {}
        }
      ],
      "source": [
        "# Plotting\n",
        "\n",
        "# 6) Plot\n",
        "plt.figure(figsize=(12,5))\n",
        "\n",
        "# prey\n",
        "plt.subplot(1,2,1)\n",
        "plt.scatter(t_data, x_data, c='k', s=10, label='data')\n",
        "plt.plot(t_data, sol_mse[:,0], 'C0-', label='MSE fit')\n",
        "plt.plot(t_data, sol_mae[:,0], 'C1--', label='MAE fit')\n",
        "plt.title('Prey')\n",
        "plt.xlabel('Time'); plt.ylabel('Population')\n",
        "plt.legend()\n",
        "\n",
        "# predator\n",
        "plt.subplot(1,2,2)\n",
        "plt.scatter(t_data, y_data, c='k', s=10, label='data')\n",
        "plt.plot(t_data, sol_mse[:,1], 'C0-', label='MSE fit')\n",
        "plt.plot(t_data, sol_mae[:,1], 'C1--', label='MAE fit')\n",
        "plt.title('Predator')\n",
        "plt.xlabel('Time'); plt.ylabel('Population')\n",
        "plt.legend()\n",
        "\n",
        "plt.tight_layout()\n",
        "plt.show()"
      ]
    }
  ],
  "metadata": {
    "kernelspec": {
      "display_name": "Python 3 (ipykernel)",
      "language": "python",
      "name": "python3"
    },
    "language_info": {
      "codemirror_mode": {
        "name": "ipython",
        "version": 3
      },
      "file_extension": ".py",
      "mimetype": "text/x-python",
      "name": "python",
      "nbconvert_exporter": "python",
      "pygments_lexer": "ipython3",
      "version": "3.12.7"
    },
    "colab": {
      "provenance": []
    }
  },
  "nbformat": 4,
  "nbformat_minor": 5
}